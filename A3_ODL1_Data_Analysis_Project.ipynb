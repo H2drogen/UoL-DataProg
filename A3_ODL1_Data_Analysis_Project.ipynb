{
 "cells": [
  {
   "cell_type": "markdown",
   "metadata": {},
   "source": [
    "## P4DS (ODL1) Assignment 3\n",
    "\n",
    "# Data Analysis Project\n",
    "\n",
    "#### Notebook template design: Brandon Bennett (2020.11.03, revised 2021.03.02)\n",
    "\n",
    "# _Analysing the Impact of Covid-19 on European Countries_\n",
    "\n",
    "\n",
    "#### Student: _Loukas Tsouroplis_\n",
    "\n",
    "#### Email: od21lt@leeds.ac.uk"
   ]
  },
  {
   "attachments": {
    "f76ccfa7c2ed7f5b085115086107bbe25d329cec.svg": {
     "image/svg+xml": [
      "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"
     ]
    }
   },
   "cell_type": "markdown",
   "metadata": {},
   "source": [
    "# Project Plan\n",
    "\n",
    "## The Data (10 marks)\n",
    "\n",
    "The data used for this project comes from ECDC, the European Agency for Disease Prevention and Control, an official agent of the European Union. There are two datasets that are used as part of this project,the official report of the ECDC daily covid cases/deaths across the EU/EEA area and the vaccination data from the same region. These datasets can be found on the following links:\n",
    "[Link 1](https://www.ecdc.europa.eu/en/publications-data/data-daily-new-cases-covid-19-eueea-country)\n",
    "[Link 2](https://www.ecdc.europa.eu/en/publications-data/data-covid-19-vaccination-eu-eea)\n",
    "\n",
    "The dataset for the cases/deaths consists of 13 columns in total excluding the indexes. They are date, day, month, year, country, new cases for that date, new deaths for that date, country code, country geographical code, country population and continent. It is important to note that this dataset contains the data only from the 1st of March 2021 until the 28th of October 2021. Data before March were reported on a weekly basis and are part of a different dataset. By observing the dataset, it becomes apparent that some piece of data do not offer any new information. For example we can identify the day/month/year by looking at the respective columns and as a result the date string is redundant. The same also applies to countries which have 3 different identifiers, while the continent column offers nothing as obviously this dataset concerns european countries only. Later when analysing this data we can trim some of these columns so the dataset becomes smaller and easier to handle with a computer programme.\n",
    "\n",
    "The dataset for the vaccine data consists of 12 columns in total excluding the indexes. These are the year-week ISO( week of the year identifier), number of first doses administered, number of first doses refused, number of second doses administered, number of unknown doses administered, number of doses supplied to that country, region , country, population, target group, vaccine and denominator. The official and more detailed data dictionary can be found here. At first sight it is clear that the various european countries have a different reporting system. For instance, some countries report by region while some countries don't and just use the country identifier in the region column. It is important to keep that in mind when performing the analysis further down the road.\n",
    "\n",
    "These datasets are constructed from ECDC using the official reports for covid cases/deaths of member states, so as a result  they are the most accurate data available for the EU area. However there are a couple caveats that need to be noted. Firstly, the number of covid cases per country heavily depends on how many covid tests that specific country performs per day. Some countries may not invest heavily in detecting covid so as a result they have lower numbers in new cases. Secondly, since all the data mentioned above describes countries that differ in population significantly, we have to keep in mind that raw numbers offer minimal insight on the covid impact, with percentages and ratios being better descriptors of the situation.\n",
    "\n",
    "## Project Aim and Objectives (5 marks)\n",
    "\n",
    "The Covid-19 pandemic has had a great impact on everyday life for the past two years. The general aim of this project is to take some very simple daily reported data for each European country, like daily covid cases, deaths and vaccine doses administred, and convert them to more meaningful information that can give a better insight on the situation so far across Europe. In more detail, the following three steps summarise the aim of this project:\n",
    "\n",
    "1. The fatality rate of the virus is measured for each European country. The fatality rate equals the total number of covid deaths divided by the number of covid cases and is used to described in common terms how deadly the virus is. The fatality rate is a very useful indicator for two reasons. Firstly, the average fatality rate is a good indicator to determine the actual death rate of covid, and secondly it is important to see if the death rate varies significantly between different countries and why.\n",
    "\n",
    "2. The total cases per 100.000 population are calculated. The official report for each country usually contains the new cases for each day as a simple number. However in order to compare the overall situation between countries and see where covid is more pervalent, it is important to convert those numbers to a ratio per 100.000 population, which allows to compare numbers on equal terms. This ratio is calculated using the following formula:(Events occurance)*100.00/Population. This ratio is afterwards used to classify countries according to covid risk level. Although there is no standard framework to assess risk levels and each authority may use a different model, this project uses a framework developed by the Harvard Global Health Institute and can be found online [here](https://ethics.harvard.edu/files/center-for-ethics/files/key_metrics_and_indicators_v4.pdf).\n",
    "\n",
    "3. The correlation between vaccine doses administered and deaths from covid is found. A negative correlation is a good indicative that the vaccines do indeed offer strong protection againist death from covid. To calculate the correlation the following mathematical formula is used: ![Pearson's Correlation.](attachment:f76ccfa7c2ed7f5b085115086107bbe25d329cec.svg), which is the standard method when using the pandas' built-in correlation function.\n",
    "\n",
    "\n",
    "### Specific Objective(s)\n",
    "\n",
    "* __Objective 1:__ _Measure the fatality rate of each country._ \n",
    "* __Objective 2:__ _Calculate the case per population ratio and classify countries according to covid risk level._\n",
    "* __Objective 3:__ _Find the correlation between vaccination and death rates._ \n",
    "\n",
    "## System Design (5 marks)\n",
    "\n",
    "\n",
    "### Architecture\n",
    "\n",
    "The following flowchart describes the flow of the programme. Each time a module is run we get a new stage which is described in the task section. Meanwhile the boxes represent the dataframes that exist in the memory. Some abbreviations are used. FR stands for fatality rate while DF for dataframe.\n",
    "![image info](https://i.imgur.com/NUayboT.jpg)\n",
    "  \n",
    "### Processing Modules and Algorithms\n",
    "\n",
    "* _Read the data from the online source directly to a pandas dataframe. and trim data parts that are not needed for this project._\n",
    "* _Join different datasets based on a common column._\n",
    "* _Perform mathematical calculations between data, like fatality rate and cases per 100,000 population._\n",
    "* _Visualise data to illustrate the analysis results using graphs and maps._\n",
    "* _Run a simple algorithm to classify countries according to covid risk level( check the Harvard Framework linked above)._\n",
    "* _Find Pearson's Corellation between two columns of a dataframe._"
   ]
  },
  {
   "cell_type": "markdown",
   "metadata": {},
   "source": [
    "# Program Code (15 marks)\n",
    "\n"
   ]
  },
  {
   "cell_type": "markdown",
   "metadata": {},
   "source": [
    "#### _Importing packages and reading the data_\n",
    "\n",
    "_In the following code snippet all python packages that are required for this project are imported and the data from the online source is loaded into two pandas' dataframes. The first 5 rows of each dataframe is  printed to confirm that the data was successfully read._"
   ]
  },
  {
   "cell_type": "code",
   "execution_count": 2,
   "metadata": {
    "scrolled": true
   },
   "outputs": [
    {
     "name": "stdout",
     "output_type": "stream",
     "text": [
      "      dateRep  day  month  year  cases  deaths countriesAndTerritories geoId  \\\n",
      "0  29/10/2021   29     10  2021   4232      13                 Austria    AT   \n",
      "1  28/10/2021   28     10  2021   4407      18                 Austria    AT   \n",
      "2  27/10/2021   27     10  2021   3388      13                 Austria    AT   \n",
      "3  26/10/2021   26     10  2021   2765      15                 Austria    AT   \n",
      "4  25/10/2021   25     10  2021   3655       1                 Austria    AT   \n",
      "\n",
      "  countryterritoryCode  popData2020 continentExp  \n",
      "0                  AUT      8901064       Europe  \n",
      "1                  AUT      8901064       Europe  \n",
      "2                  AUT      8901064       Europe  \n",
      "3                  AUT      8901064       Europe  \n",
      "4                  AUT      8901064       Europe  \n",
      "  YearWeekISO  FirstDose  FirstDoseRefused  SecondDose  UnknownDose  \\\n",
      "0    2020-W53          0               NaN           0            0   \n",
      "1    2020-W53          0               NaN           0            0   \n",
      "2    2020-W53          0               NaN           0            0   \n",
      "3    2020-W53       5141               NaN           0            0   \n",
      "4    2020-W53          0               NaN           0            0   \n",
      "\n",
      "   NumberDosesReceived Region  Population ReportingCountry TargetGroup  \\\n",
      "0                  0.0     AT     8901064               AT         ALL   \n",
      "1                  0.0     AT     8901064               AT         ALL   \n",
      "2                  0.0     AT     8901064               AT         ALL   \n",
      "3              61425.0     AT     8901064               AT         ALL   \n",
      "4                  0.0     AT     8901064               AT         ALL   \n",
      "\n",
      "  Vaccine  Denominator  \n",
      "0     MOD    7358443.0  \n",
      "1   JANSS    7358443.0  \n",
      "2     UNK    7358443.0  \n",
      "3     COM    7358443.0  \n",
      "4      AZ    7358443.0  \n"
     ]
    }
   ],
   "source": [
    "import matplotlib.pyplot as plt\n",
    "import pandas\n",
    "import numpy as np\n",
    "import geopandas as gpd\n",
    "\n",
    "df_cases = pandas.read_csv('https://opendata.ecdc.europa.eu/covid19/nationalcasedeath_eueea_daily_ei/csv', encoding='UTF-8')\n",
    "df_vacc = pandas.read_csv('https://opendata.ecdc.europa.eu/covid19/vaccine_tracker/csv/data.csv', encoding='UTF-8')\n",
    "#Read the csv from the link the ECDC provides into a pandas dataframe.\n",
    "print(df_cases.head(5))\n",
    "print(df_vacc.head(5))\n",
    "#Print the first 5 rows of the dataframe to confirm it was sucessfully read.\n"
   ]
  },
  {
   "cell_type": "markdown",
   "metadata": {},
   "source": [
    "#### _Deleting unneccesary information_\n",
    "\n",
    "_Since this is not an ongoing project and we know exactly what kind of analysis we want to do beforehand, it is safe to delete some columns that either offer information already given by another column(i.e. country name and country code), or delete columns that give information not needed as part of this project._"
   ]
  },
  {
   "cell_type": "code",
   "execution_count": 3,
   "metadata": {
    "scrolled": true
   },
   "outputs": [
    {
     "name": "stdout",
     "output_type": "stream",
     "text": [
      "   day  month  year  cases  deaths countriesAndTerritories geoId  popData2020\n",
      "0   29     10  2021   4232      13                 Austria    AT      8901064\n",
      "1   28     10  2021   4407      18                 Austria    AT      8901064\n",
      "2   27     10  2021   3388      13                 Austria    AT      8901064\n",
      "3   26     10  2021   2765      15                 Austria    AT      8901064\n",
      "4   25     10  2021   3655       1                 Austria    AT      8901064\n",
      "   FirstDose  SecondDose  UnknownDose  Population ReportingCountry\n",
      "0          0           0            0     8901064               AT\n",
      "1          0           0            0     8901064               AT\n",
      "2          0           0            0     8901064               AT\n",
      "3       5141           0            0     8901064               AT\n",
      "4          0           0            0     8901064               AT\n"
     ]
    }
   ],
   "source": [
    "del df_cases['continentExp']\n",
    "del df_cases['dateRep']\n",
    "#del df_cases['countriesAndTerritories']\n",
    "del df_cases['countryterritoryCode']\n",
    "del df_vacc['FirstDoseRefused']\n",
    "del df_vacc['NumberDosesReceived']\n",
    "del df_vacc['Region']\n",
    "del df_vacc['TargetGroup']\n",
    "del df_vacc['Vaccine']\n",
    "del df_vacc['Denominator']\n",
    "del df_vacc['YearWeekISO']\n",
    "#Delete columns not used at all further down the analysis\n",
    "\n",
    "print(df_cases.head(5))\n",
    "print(df_vacc.head(5))\n",
    "#Check the new format of our dataframes"
   ]
  },
  {
   "cell_type": "markdown",
   "metadata": {},
   "source": [
    "#### _A note on deleting columns_\n",
    "\n",
    "_In general it is not advisable to delete information from our data. Although they may not be needed currently, the scope of the analysis may change in the future. However in this instance, where the project will not be an ongoing system, some columns were deleted to make the debugging part easier and faster, plus make the different outputs of the programme more compact._"
   ]
  },
  {
   "cell_type": "markdown",
   "metadata": {},
   "source": [
    "#### _Check for NaNs_\n",
    "\n",
    "_Now that we have removed unused columns from our dataframes, we should perform one last step before starting the actual analysis, which is to check the entire dataframes for any NaN values._"
   ]
  },
  {
   "cell_type": "code",
   "execution_count": 4,
   "metadata": {
    "scrolled": true
   },
   "outputs": [
    {
     "data": {
      "text/plain": [
       "False"
      ]
     },
     "execution_count": 4,
     "metadata": {},
     "output_type": "execute_result"
    }
   ],
   "source": [
    "df_cases.isnull().values.any()\n",
    "df_vacc.isnull().values.any()\n"
   ]
  },
  {
   "cell_type": "markdown",
   "metadata": {},
   "source": [
    "_The above function returned false, which means that no NaN values were found. We now know that there are no missing/placeholder data._"
   ]
  },
  {
   "cell_type": "markdown",
   "metadata": {},
   "source": [
    "#### _Objective 1: Calculate the fatality rate_\n",
    "\n",
    "_To get the fatality rate for each country, first the total amount of deaths and cases have to be calculated. Afterwards this info is passed to another dataframe where the fatality rate is calculated as a new column. The new dataframe is going to be much smaller so it is more efficient to calculate the rate at the new dataframe and avoid redundant calculations._"
   ]
  },
  {
   "cell_type": "code",
   "execution_count": 5,
   "metadata": {},
   "outputs": [
    {
     "name": "stdout",
     "output_type": "stream",
     "text": [
      "    countriesAndTerritories geoId  popData2020  sumcases  sumdeaths  \\\n",
      "0                   Austria    AT      8901064    810157      11055   \n",
      "243                 Belgium    BE     11522440   1351818      25976   \n",
      "486                Bulgaria    BG      6951482    592943      23718   \n",
      "729                 Croatia    HR      4058165    458090       9142   \n",
      "972                  Cyprus    CY       888005    124017        571   \n",
      "\n",
      "     fatalityrate%  \n",
      "0         1.364550  \n",
      "243       1.921560  \n",
      "486       4.000047  \n",
      "729       1.995678  \n",
      "972       0.460421  \n"
     ]
    }
   ],
   "source": [
    "df_cases['sumcases'] = df_cases['cases'].groupby(df_cases['geoId']).transform('sum')\n",
    "#Find the sum of column named 'cases' by 'geoId' and add it to a new column name 'sumcases'\n",
    "df_cases['sumdeaths'] = df_cases['deaths'].groupby(df_cases['geoId']).transform('sum')\n",
    "#Similar with above\n",
    "\n",
    "df_total=df_cases.drop_duplicates(subset = [\"geoId\"]).copy()\n",
    "#Sum is the same for all rows of each country, so drop duplicates\n",
    "\n",
    "df_total['fatalityrate%'] = (100* df_total['sumdeaths']/df_total['sumcases'])\n",
    "#Find fatality rate in percentage form\n",
    "del df_total['day']\n",
    "del df_total['month']\n",
    "del df_total['year']\n",
    "del df_total['cases']\n",
    "del df_total['deaths']\n",
    "#Since we dropped duplicates the columns deleted above make no sense in the new dataframe\n",
    "print(df_total.head(5))\n",
    "# Print 5 rows to check"
   ]
  },
  {
   "cell_type": "markdown",
   "metadata": {},
   "source": [
    "#### _Objective 2a: Calculate cases per 100,000 population_\n",
    "\n",
    "_To calculate the cases per 100,000 population, first the seven-day average for new case has to be found according to the latest date. As a result only the rows that contain the final 7 days of the data are kept and the rest are deleted. Afterwards the sum of cases and deaths is calculated like in objective 1, but now accounting only for 7 days of the reported data. The end result of the objective is inserted into the casespercapita column._"
   ]
  },
  {
   "cell_type": "code",
   "execution_count": 6,
   "metadata": {},
   "outputs": [
    {
     "name": "stdout",
     "output_type": "stream",
     "text": [
      "     day  month  year  cases  deaths countriesAndTerritories geoId  \\\n",
      "0     29     10  2021   4232      13                 Austria    AT   \n",
      "243   29     10  2021      0       0                 Belgium    BE   \n",
      "486   29     10  2021   5178     124                Bulgaria    BG   \n",
      "729   29     10  2021   4154      26                 Croatia    HR   \n",
      "972   29     10  2021    109       0                  Cyprus    CY   \n",
      "\n",
      "     popData2020  sumcases  sumdeaths     sevenavg  casespercapita  \n",
      "0        8901064     29546      11055  4220.857143       47.419692  \n",
      "243     11522440     35599      25976  5085.571429       44.136237  \n",
      "486      6951482     37866      23718  5409.428571       77.816911  \n",
      "729      4058165     24954       9142  3564.857143       87.844066  \n",
      "972       888005      1165        571   166.428571       18.741851  \n"
     ]
    }
   ],
   "source": [
    "df_7day=df_cases.copy()\n",
    "df_7day=df_7day.loc[(df_7day['day'] >= 22) & (df_7day['month'] == 10)]\n",
    "#Dataset used is from 28th so last 7 days are 28,27,26,25,24,23,22\n",
    "df_7day['sumcases'] = df_7day['cases'].groupby(df_7day['geoId']).transform('sum')\n",
    "#sum of cases for last 7 days\n",
    "df_7day['sevenavg'] = df_7day['sumcases']/7\n",
    "#divide by 7 to get average\n",
    "df_7day=df_7day.drop_duplicates(subset = [\"geoId\"])\n",
    "#drop duplicates since all rows contain the same average per geoId\n",
    "#df_7day.drop(df_7day.columns[[0,1,2,3,4,7,8]], axis = 1, inplace = True)\n",
    "#delete columns by position that were copied from df_cases and make no sense with no duplicates\n",
    "df_7day['casespercapita']=df_7day['sevenavg']*100000/df_7day['popData2020']\n",
    "#calculate case per capita\n",
    "print(df_7day.head(5))"
   ]
  },
  {
   "cell_type": "markdown",
   "metadata": {},
   "source": [
    "#### _Objective 2b: Classify countries according to covid risk level_\n",
    "\n",
    "_At this step the dataframe is iterated and each row is assigned a value according to the framework used. This value is stored in the new risklevel column._"
   ]
  },
  {
   "cell_type": "code",
   "execution_count": 7,
   "metadata": {},
   "outputs": [
    {
     "name": "stdout",
     "output_type": "stream",
     "text": [
      "      day  month  year  cases  deaths countriesAndTerritories geoId  \\\n",
      "0      29     10  2021   4232      13                 Austria    AT   \n",
      "243    29     10  2021      0       0                 Belgium    BE   \n",
      "486    29     10  2021   5178     124                Bulgaria    BG   \n",
      "729    29     10  2021   4154      26                 Croatia    HR   \n",
      "972    29     10  2021    109       0                  Cyprus    CY   \n",
      "1215   29     10  2021   4385      16                 Czechia    CZ   \n",
      "1458   29     10  2021   1847       1                 Denmark    DK   \n",
      "1701   29     10  2021   1679      11                 Estonia    EE   \n",
      "1944   29     10  2021    673       4                 Finland    FI   \n",
      "2187   29     10  2021   6461      33                  France    FR   \n",
      "2430   29     10  2021  24668     121                 Germany    DE   \n",
      "2673   29     10  2021   2957      31                  Greece    EL   \n",
      "2916   29     10  2021   4041      37                 Hungary    HU   \n",
      "3159   29     10  2021    100       0                 Iceland    IS   \n",
      "3402   29     10  2021   2598       0                 Ireland    IE   \n",
      "3645   29     10  2021   4863      50                   Italy    IT   \n",
      "3888   29     10  2021   2919      64                  Latvia    LV   \n",
      "4131   29     10  2021      6       0           Liechtenstein    LI   \n",
      "4374   29     10  2021   3519      34               Lithuania    LT   \n",
      "4617   29     10  2021    138       0              Luxembourg    LU   \n",
      "4860   29     10  2021     15       0                   Malta    MT   \n",
      "5103   29     10  2021   7683      14             Netherlands    NL   \n",
      "5346   29     10  2021   1193       0                  Norway    NO   \n",
      "5589   29     10  2021   8382     101                  Poland    PL   \n",
      "5832   29     10  2021    888       5                Portugal    PT   \n",
      "6075   29     10  2021  13197     415                 Romania    RO   \n",
      "6318   29     10  2021      0       0                Slovakia    SK   \n",
      "6561   29     10  2021   2477       2                Slovenia    SI   \n",
      "6804   28     10  2021   2212      33                   Spain    ES   \n",
      "7047   29     10  2021      0       0                  Sweden    SE   \n",
      "\n",
      "      popData2020  sumcases  sumdeaths      sevenavg  casespercapita risklevel  \n",
      "0         8901064     29546      11055   4220.857143       47.419692       red  \n",
      "243      11522440     35599      25976   5085.571429       44.136237       red  \n",
      "486       6951482     37866      23718   5409.428571       77.816911       red  \n",
      "729       4058165     24954       9142   3564.857143       87.844066       red  \n",
      "972        888005      1165        571    166.428571       18.741851    orange  \n",
      "1215     10693939     33278      30705   4754.000000       44.455088       red  \n",
      "1458      5822763     11510       2709   1644.285714       28.238926       red  \n",
      "1701      1328976     12914       1502   1844.857143      138.817943       red  \n",
      "1944      5525292      4860       1154    694.285714       12.565593    orange  \n",
      "2187     67320216     44676     117622   6382.285714        9.480489    yellow  \n",
      "2430     83166711    141412      95606  20201.714286       24.290625    orange  \n",
      "2673     10718565     26956      15801   3850.857143       35.926984       red  \n",
      "2916      9769526     22142      30729   3163.142857       32.377649       red  \n",
      "3159       364134       638         33     91.142857       25.030032       red  \n",
      "3402      4964440     16890       5436   2412.857143       48.602806       red  \n",
      "3645     59641488     31344     132004   4477.714286        7.507717    yellow  \n",
      "3888      1907675     20381       3173   2911.571429      152.624081       red  \n",
      "4131        38747        44         61      6.285714       16.222454    orange  \n",
      "4374      2794090     23613       5800   3373.285714      120.729315       red  \n",
      "4617       626108      1170        843    167.142857       26.695531       red  \n",
      "4860       514564       104        460     14.857143        2.887327    yellow  \n",
      "5103     17407585     49090      18371   7012.857143       40.286215       red  \n",
      "5346      5367580      6243        900    891.857143       16.615628    orange  \n",
      "5589     37958138     48275      76773   6896.428571       18.168511    orange  \n",
      "5832     10295909      6277      18149    896.714286        8.709423    yellow  \n",
      "6075     19328838    112605      46430  16086.428571       83.225016       red  \n",
      "6318      5457873     31066      12977   4438.000000       81.313728       red  \n",
      "6561      2095861     17044       5050   2434.857143      116.174553       red  \n",
      "6804     47332614     13711      87322   1958.714286        4.138192    yellow  \n",
      "7047     10327589      4424      15018    632.000000        6.119531    yellow  \n"
     ]
    }
   ],
   "source": [
    "df_7day['risklevel']=''\n",
    "#add new empty column\n",
    "for i, row in df_7day.iterrows():\n",
    "    if  df_7day.loc[i,'casespercapita'] >25:\n",
    "        df_7day.loc[i,'risklevel'] = 'red'\n",
    "    elif df_7day.loc[i,'casespercapita'] >10:\n",
    "        df_7day.loc[i,'risklevel'] = 'orange'\n",
    "    elif df_7day.loc[i,'casespercapita'] >1:\n",
    "        df_7day.loc[i,'risklevel'] = 'yellow'\n",
    "    else:\n",
    "        df_7day.loc[i,'risklevel'] = 'green'\n",
    "#iterate columns and add colour according to Harvard framework\n",
    "print(df_7day)"
   ]
  },
  {
   "cell_type": "markdown",
   "metadata": {},
   "source": [
    "#### _Objective 3a: Find  vaccine doses per 100.000 population  per country_\n",
    "\n",
    "_Similar to previous scenarios, we have to find the sum of the vaccine dosages administered by each country. The only difference here is that we have to sum 3 different columns, for the 1st,2nd and unknown dosages._"
   ]
  },
  {
   "cell_type": "code",
   "execution_count": 8,
   "metadata": {},
   "outputs": [
    {
     "name": "stdout",
     "output_type": "stream",
     "text": [
      "      Population ReportingCountry  SumDoses  dosepercapita\n",
      "0        8901064               AT  22276142  250263.811158\n",
      "2640    11522440               BE  33618910  291769.017673\n",
      "4326     6951482               BG   5611540   80724.369278\n",
      "5932      888005               CY   2383203  268377.205083\n",
      "7382    10693939               CZ  24952081  233329.187683\n"
     ]
    }
   ],
   "source": [
    "target_columns = ['FirstDose', 'SecondDose', 'UnknownDose']\n",
    "#mark columns to be summed\n",
    "df_vacc['AllDose']= df_vacc[target_columns].sum(axis=1)\n",
    "#sum per row for now\n",
    "df_vacc['SumDoses'] = df_vacc['AllDose'].groupby(df_vacc['ReportingCountry']).transform('sum')\n",
    "#sum new made column AllDose into SumDoses\n",
    "df_vacc=df_vacc.drop_duplicates(subset = [\"ReportingCountry\"])\n",
    "#drop duplicates\n",
    "df_vacc['dosepercapita']= df_vacc['SumDoses']*100000/df_vacc['Population']\n",
    "df_vacc.drop(df_vacc.columns[[0,2,1,5]], axis = 1, inplace = True)\n",
    "print(df_vacc.head(5))"
   ]
  },
  {
   "cell_type": "markdown",
   "metadata": {},
   "source": [
    "#### _Objective 3b: Find  covid deaths per 100.000 population  per country_\n",
    "\n",
    "_Similar to previous scenarios, we have to find the sum of the vaccine dosages administered by each country. The only difference here is that we have to sum 3 different columns, for the 1st,2nd and unknown dosages._"
   ]
  },
  {
   "cell_type": "code",
   "execution_count": 9,
   "metadata": {},
   "outputs": [
    {
     "name": "stdout",
     "output_type": "stream",
     "text": [
      "     countriesAndTerritories geoId  popData2020  sumcases  sumdeaths  \\\n",
      "0                    Austria    AT      8901064    810157      11055   \n",
      "243                  Belgium    BE     11522440   1351818      25976   \n",
      "486                 Bulgaria    BG      6951482    592943      23718   \n",
      "729                  Croatia    HR      4058165    458090       9142   \n",
      "972                   Cyprus    CY       888005    124017        571   \n",
      "1215                 Czechia    CZ     10693939   1752086      30705   \n",
      "1458                 Denmark    DK      5822763    382796       2709   \n",
      "1701                 Estonia    EE      1328976    190201       1502   \n",
      "1944                 Finland    FI      5525292    156959       1154   \n",
      "2187                  France    FR     67320216   7146755     117622   \n",
      "2430                 Germany    DE     83166711   4559120      95606   \n",
      "2673                  Greece    EL     10718565    731167      15801   \n",
      "2916                 Hungary    HU      9769526    863419      30729   \n",
      "3159                 Iceland    IS       364134     13413         33   \n",
      "3402                 Ireland    IE      4964440    438124       5436   \n",
      "3645                   Italy    IT     59641488   4757231     132004   \n",
      "3888                  Latvia    LV      1907675    211702       3173   \n",
      "4131           Liechtenstein    LI        38747      3557         61   \n",
      "4374               Lithuania    LT      2794090    403051       5800   \n",
      "4617              Luxembourg    LU       626108     81501        843   \n",
      "4860                   Malta    MT       514564     37612        460   \n",
      "5103             Netherlands    NL     17407585   2108549      18371   \n",
      "5346                  Norway    NO      5367580    203742        900   \n",
      "5589                  Poland    PL     37958138   2998891      76773   \n",
      "5832                Portugal    PT     10295909   1088133      18149   \n",
      "6075                 Romania    RO     19328838   1616027      46430   \n",
      "6318                Slovakia    SK      5457873    880635      12977   \n",
      "6561                Slovenia    SI      2095861    331206       5050   \n",
      "6804                   Spain    ES     47332614   5008887      87322   \n",
      "7047                  Sweden    SE     10327589   1170422      15018   \n",
      "\n",
      "      fatalityrate%  deathspercapita  \n",
      "0          1.364550       124.198635  \n",
      "243        1.921560       225.438362  \n",
      "486        4.000047       341.193432  \n",
      "729        1.995678       225.274231  \n",
      "972        0.460421        64.301440  \n",
      "1215       1.752482       287.125259  \n",
      "1458       0.707688        46.524305  \n",
      "1701       0.789691       113.019347  \n",
      "1944       0.735224        20.885774  \n",
      "2187       1.645810       174.720176  \n",
      "2430       2.097027       114.957053  \n",
      "2673       2.161066       147.417122  \n",
      "2916       3.558990       314.539313  \n",
      "3159       0.246030         9.062598  \n",
      "3402       1.240745       109.498755  \n",
      "3645       2.774807       221.329153  \n",
      "3888       1.498805       166.328122  \n",
      "4131       1.714928       157.431543  \n",
      "4374       1.439024       207.581001  \n",
      "4617       1.034343       134.641308  \n",
      "4860       1.223014        89.396071  \n",
      "5103       0.871263       105.534455  \n",
      "5346       0.441735        16.767333  \n",
      "5589       2.560046       202.257023  \n",
      "5832       1.667903       176.273897  \n",
      "6075       2.873096       240.211026  \n",
      "6318       1.473596       237.766617  \n",
      "6561       1.524731       240.951094  \n",
      "6804       1.743341       184.485902  \n",
      "7047       1.283127       145.416321  \n"
     ]
    }
   ],
   "source": [
    "df_total['deathspercapita']= df_total['sumdeaths']*100000/df_total['popData2020']\n",
    "#df_vacc.drop(df_vacc.columns[[0,2,1,4,5,3,9,10,11,6,7,12]], axis = 1, inplace = True)\n",
    "print(df_total)"
   ]
  },
  {
   "cell_type": "markdown",
   "metadata": {},
   "source": [
    "#### _Objective 3c: Combining data from different datasets_\n",
    "\n",
    "_We have calculated the deaths and doses administered per 100,000 population for each country. Before we calculate the corellation between the two though, it is essential to match each value from one dataset to the other._"
   ]
  },
  {
   "cell_type": "code",
   "execution_count": 10,
   "metadata": {},
   "outputs": [
    {
     "name": "stdout",
     "output_type": "stream",
     "text": [
      "     countriesAndTerritories geoId  popData2020  sumcases  sumdeaths  \\\n",
      "0                    Austria    AT      8901064    810157      11055   \n",
      "243                  Belgium    BE     11522440   1351818      25976   \n",
      "486                 Bulgaria    BG      6951482    592943      23718   \n",
      "729                  Croatia    HR      4058165    458090       9142   \n",
      "972                   Cyprus    CY       888005    124017        571   \n",
      "1215                 Czechia    CZ     10693939   1752086      30705   \n",
      "1458                 Denmark    DK      5822763    382796       2709   \n",
      "1701                 Estonia    EE      1328976    190201       1502   \n",
      "1944                 Finland    FI      5525292    156959       1154   \n",
      "2187                  France    FR     67320216   7146755     117622   \n",
      "2430                 Germany    DE     83166711   4559120      95606   \n",
      "2673                  Greece    EL     10718565    731167      15801   \n",
      "2916                 Hungary    HU      9769526    863419      30729   \n",
      "3159                 Iceland    IS       364134     13413         33   \n",
      "3402                 Ireland    IE      4964440    438124       5436   \n",
      "3645                   Italy    IT     59641488   4757231     132004   \n",
      "3888                  Latvia    LV      1907675    211702       3173   \n",
      "4131           Liechtenstein    LI        38747      3557         61   \n",
      "4374               Lithuania    LT      2794090    403051       5800   \n",
      "4617              Luxembourg    LU       626108     81501        843   \n",
      "4860                   Malta    MT       514564     37612        460   \n",
      "5103             Netherlands    NL     17407585   2108549      18371   \n",
      "5346                  Norway    NO      5367580    203742        900   \n",
      "5589                  Poland    PL     37958138   2998891      76773   \n",
      "5832                Portugal    PT     10295909   1088133      18149   \n",
      "6075                 Romania    RO     19328838   1616027      46430   \n",
      "6318                Slovakia    SK      5457873    880635      12977   \n",
      "6561                Slovenia    SI      2095861    331206       5050   \n",
      "6804                   Spain    ES     47332614   5008887      87322   \n",
      "7047                  Sweden    SE     10327589   1170422      15018   \n",
      "\n",
      "      fatalityrate%  deathspercapita  dosepercapita  \n",
      "0          1.364550       124.198635  250263.811158  \n",
      "243        1.921560       225.438362  291769.017673  \n",
      "486        4.000047       341.193432   80724.369278  \n",
      "729        1.995678       225.274231  177911.124856  \n",
      "972        0.460421        64.301440  268377.205083  \n",
      "1215       1.752482       287.125259  233329.187683  \n",
      "1458       0.707688        46.524305  304923.968226  \n",
      "1701       0.789691       113.019347  218102.132770  \n",
      "1944       0.735224        20.885774  581989.150981  \n",
      "2187       1.645810       174.720176  548571.700958  \n",
      "2430       2.097027       114.957053  131397.543183  \n",
      "2673       2.161066       147.417122  353843.420271  \n",
      "2916       3.558990       314.539313  233692.770765  \n",
      "3159       0.246030         9.062598  285275.200888  \n",
      "3402       1.240745       109.498755  310421.356689  \n",
      "3645       2.774807       221.329153  432716.747443  \n",
      "3888       1.498805       166.328122  194185.277891  \n",
      "4131       1.714928       157.431543  118798.874752  \n",
      "4374       1.439024       207.581001  353897.691198  \n",
      "4617       1.034343       134.641308  250164.348643  \n",
      "4860       1.223014        89.396071  311723.323046  \n",
      "5103       0.871263       105.534455  130134.587882  \n",
      "5346       0.441735        16.767333  299093.353057  \n",
      "5589       2.560046       202.257023  408513.963462  \n",
      "5832       1.667903       176.273897  462763.530641  \n",
      "6075       2.873096       240.211026  176438.568113  \n",
      "6318       1.473596       237.766617  173164.124559  \n",
      "6561       1.524731       240.951094  205376.501591  \n",
      "6804       1.743341       184.485902  310052.601363  \n",
      "7047       1.283127       145.416321  403665.773299  \n"
     ]
    }
   ],
   "source": [
    "df_total['dosepercapita'] = df_total.geoId.map(df_vacc.set_index('ReportingCountry')['dosepercapita'])\n",
    "#map the dosepercapita from df_vacc to df_total according to geoId=ReportingCountry\n",
    "print(df_total)"
   ]
  },
  {
   "cell_type": "markdown",
   "metadata": {},
   "source": [
    "#### _Objective 3d: Find corellation between vaccine rate and death rate_\n",
    "\n",
    "_We have calculated the deaths and doses administered per 100,000 population for each country. Before we calculate the corellation between the two though, it is essential to match each value from one dataset to the other._"
   ]
  },
  {
   "cell_type": "code",
   "execution_count": 11,
   "metadata": {},
   "outputs": [
    {
     "name": "stdout",
     "output_type": "stream",
     "text": [
      "-0.2855131011220151\n"
     ]
    }
   ],
   "source": [
    "g=df_total['deathspercapita'].corr(df_total['dosepercapita'])\n",
    "print(g)"
   ]
  },
  {
   "cell_type": "markdown",
   "metadata": {},
   "source": [
    "# Project Outcome (10 + 10 marks)"
   ]
  },
  {
   "cell_type": "markdown",
   "metadata": {
    "slideshow": {
     "slide_type": "fragment"
    }
   },
   "source": [
    "## Overview of Results\n",
    "By now we have run all code modules and seen the output of each one. A brief observation of the data is enough to see that there is a negative correlation between death and vaccination rates in EU as a whole. Moreover the data from the last 7 days show that currently there is no single country in the EU where the virus is contained(green colour), with them majority of them being in red state, meaning that regardless of death rates covid is rapidly spreading. Finally there seems to be a big variation between the fatality rates for each country. Let's see however each objective set at the beginning of the project separately and provide some visualisations."
   ]
  },
  {
   "cell_type": "markdown",
   "metadata": {},
   "source": [
    "## Objective 1: Fatality rate of each country\n",
    "\n",
    "### Explanation of Results\n",
    "\n",
    "_The following bar chart gives a  representation of the distribution of fatality rates for each European country. Bulgaria, Romania and Hungary seem to lead the \"race\" in fatality rates whilst Cyprus, Norway and Iceland come last. It is apparent even at a first glance that there is a significant variance among european countries. For instance Bulgaria, has a circa 4% fatality rate which is nearly 8 times greater than that of Cyprus. The code snippet underneath the bar chart calculates the coefficient variation(CV) for the fatality rates percentage. As a general rule of thumb a CV>1 is considered to be high which is also the case here. This variance could be the result of low vaccination rates in some countries or different strategies in treating it that proved less effective._\n",
    "\n",
    "### Visualisation"
   ]
  },
  {
   "cell_type": "code",
   "execution_count": 12,
   "metadata": {},
   "outputs": [
    {
     "data": {
      "text/plain": [
       "<AxesSubplot:title={'center':'Fatality Rate per European Country'}, xlabel='Country', ylabel='Fatality Rate'>"
      ]
     },
     "execution_count": 12,
     "metadata": {},
     "output_type": "execute_result"
    },
    {
     "data": {
      "image/png": "[encoded data removed]",
      "text/plain": [
       "<Figure size 432x288 with 1 Axes>"
      ]
     },
     "metadata": {
      "needs_background": "light"
     },
     "output_type": "display_data"
    }
   ],
   "source": [
    "df_total.plot(kind='bar',x='geoId',y='fatalityrate%',xlabel='Country',ylabel='Fatality Rate', title='Fatality Rate per European Country')"
   ]
  },
  {
   "cell_type": "code",
   "execution_count": 13,
   "metadata": {},
   "outputs": [
    {
     "data": {
      "text/plain": [
       "54.02157919615409"
      ]
     },
     "execution_count": 13,
     "metadata": {},
     "output_type": "execute_result"
    }
   ],
   "source": [
    "cv = lambda x: np.std(x, ddof=1) / np.mean(x) * 100 \n",
    "cv(df_total['fatalityrate%'])"
   ]
  },
  {
   "cell_type": "markdown",
   "metadata": {},
   "source": [
    "## Objective 2: Covid Risk Classification\n",
    "### Explanation of Results\n",
    "\n",
    "According to the framework used for covid risk classification, a country contains the virus if it is labeled as green, whilst yellow, orange and red mean that the virus is spreading. The output of the objective 2 code snippet showed that zero countries fell in the green area. This is confirmed by the visualisation shown below. A map was of Europe was drawn using geopandas. The countries are coloured according to their risk level. Countries in gray/black are not part of the data. It is clear that all of Europe is in high covid risk currently. This is a sign that despite efforts made and the vaccine programme rollout the pandemic is still not under control and further preventive measures may be required in the future.\n",
    "\n",
    "### Visualisation"
   ]
  },
  {
   "cell_type": "code",
   "execution_count": 14,
   "metadata": {},
   "outputs": [
    {
     "name": "stderr",
     "output_type": "stream",
     "text": [
      "C:\\Users\\Loukas\\anaconda3\\envs\\my_env\\lib\\site-packages\\geopandas\\plotting.py:678: UserWarning: The GeoDataFrame you are attempting to plot is empty. Nothing has been displayed.\n",
      "  warnings.warn(\n",
      "C:\\Users\\Loukas\\anaconda3\\envs\\my_env\\lib\\site-packages\\geopandas\\plotting.py:678: UserWarning: The GeoDataFrame you are attempting to plot is empty. Nothing has been displayed.\n",
      "  warnings.warn(\n"
     ]
    },
    {
     "data": {
      "image/png": "[encoded data removed]",
      "text/plain": [
       "<Figure size 720x720 with 1 Axes>"
      ]
     },
     "metadata": {
      "needs_background": "light"
     },
     "output_type": "display_data"
    }
   ],
   "source": [
    "world = gpd.read_file(gpd.datasets.get_path('naturalearth_lowres'))\n",
    "\n",
    "# or plot Africa continent\n",
    "\n",
    "ax2 = world[world.continent == 'Europe'].plot(figsize=(10,10), edgecolor=u'black', cmap='gray')\n",
    "t_array = df_7day[['countriesAndTerritories','risklevel']].to_numpy()\n",
    "ax2.set_ylim([30, 75])\n",
    "ax2.set_xlim([-20, 34.4])\n",
    "\n",
    "for row in t_array:\n",
    "    val1 = row[0]\n",
    "    val2 = row[1]\n",
    "    if  val2 =='red':\n",
    "        world[world.name == val1].plot(edgecolor=u'gray', color='red', ax=ax2)\n",
    "    elif val2=='orange':\n",
    "        world[world.name == val1].plot(edgecolor=u'gray', color='orange', ax=ax2)\n",
    "    elif val2=='yellow':\n",
    "        world[world.name == val1].plot(edgecolor=u'gray', color='yellow', ax=ax2)\n",
    "    else:\n",
    "        world[world.name == val1].plot(edgecolor=u'gray', color='green', ax=ax2)\n",
    "\n",
    "# the place to plot additional vector data (points, lines)\n",
    "\n",
    "plt.ylabel('Latitude')\n",
    "plt.xlabel('Longitude')\n",
    "\n",
    "plt.show()"
   ]
  },
  {
   "cell_type": "markdown",
   "metadata": {},
   "source": [
    "_Some error messages appear. They seem to happen because the border/map for countries is downloaded from external source due to geopandas._"
   ]
  },
  {
   "cell_type": "markdown",
   "metadata": {},
   "source": [
    "## Objective 3: Correlation between death and vaccination rates\n",
    "### Explanation of Results\n",
    "\n",
    "The correlation matrix underneath shows that there is a negative correlation between the values of deathspercapita and dosepercapita. It is expected that vaccines decrease death rate and this is proof that they work. However from this scope we examine the correlation only between vaccine and death rate. In a more realistic scenario it is possible that more variables affect the final outcome.\n",
    "\n",
    "### Visualisation"
   ]
  },
  {
   "cell_type": "code",
   "execution_count": 18,
   "metadata": {},
   "outputs": [
    {
     "data": {
      "text/plain": [
       "<Figure size 1080x1080 with 0 Axes>"
      ]
     },
     "metadata": {},
     "output_type": "display_data"
    },
    {
     "data": {
      "image/png": "[encoded data removed]",
      "text/plain": [
       "<Figure size 288x288 with 2 Axes>"
      ]
     },
     "metadata": {
      "needs_background": "light"
     },
     "output_type": "display_data"
    }
   ],
   "source": [
    "new = df_total[['deathspercapita', 'dosepercapita']].copy()\n",
    "f = plt.figure(figsize=(15, 15))\n",
    "plt.matshow(new.corr(), fignum=3)\n",
    "\n",
    "cb = plt.colorbar(fraction=0.1)\n",
    "cb.ax.tick_params(labelsize=14)\n",
    "plt.title('Correlation Matrix', fontsize=16);"
   ]
  },
  {
   "cell_type": "markdown",
   "metadata": {},
   "source": [
    "# Conclusion (5 marks)\n",
    "\n",
    "### Achievements\n",
    "_As  expected, all the signs point towards the vaccines being a very effective solution at preventing death from covid. There is a significant negative corellation between death and vaccine rates from data collected from the ECDC. On the other hand, most european countries as of 28th of October 2021, are on high risk covid levels. Despite the vaccines, people and the authorities must remain alert for what the future comes._\n",
    "\n",
    "### Limitations\n",
    "_This project was done in a limited timeframe and as a result, some less important details were omitted. As can be seen in the vaccine dataset, more than 5 different vaccines are administered. It is expected that not all vaccines are equally effective, but analysing each vaccine individually would be time consuming. Moreover, daily data from before March 2021 are not available. As a result the deaths per 100,000 population ratio is not totally accurate. It is possible that vaccines would prove to be even more effective if death data for a longer time period were to be used._\n",
    "\n",
    "### Future Work\n",
    "_Graphs from this project show that there is some variance among the fatality rates of different european countries. Although the variance among vaccine rates is definitely a big factor for this, it is possible that there are other factors as well. For example, different protocols and strategies followed when preventing or treating covid may prove to be more or less effective. The answer is definitely in the data available and it would be interesting to explore possible links in a future project._"
   ]
  }
 ],
 "metadata": {
  "kernelspec": {
   "display_name": "Python 3 (ipykernel)",
   "language": "python",
   "name": "python3"
  },
  "language_info": {
   "codemirror_mode": {
    "name": "ipython",
    "version": 3
   },
   "file_extension": ".py",
   "mimetype": "text/x-python",
   "name": "python",
   "nbconvert_exporter": "python",
   "pygments_lexer": "ipython3",
   "version": "3.9.7"
  }
 },
 "nbformat": 4,
 "nbformat_minor": 4
}
